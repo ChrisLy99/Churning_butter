{
 "cells": [
  {
   "cell_type": "markdown",
   "metadata": {},
   "source": [
    "# COGS 118B Final Project\n",
    "### Authors:\n",
    "- Michelle Tran\n",
    "- Christopher Ly"
   ]
  },
  {
   "cell_type": "markdown",
   "metadata": {},
   "source": [
    "<strong style=\"color:red\">Just for reference for working on GitHub:</strong>\n",
    "<p style=\"color:red\">Be sure to clear output for the notebook before pushing to the repo, this is to keep commit history clean. You can do this by following the sequence below:</p>\n",
    "\n",
    "`Cell > All Output > Clear`"
   ]
  },
  {
   "cell_type": "code",
   "execution_count": null,
   "metadata": {},
   "outputs": [],
   "source": [
    "import numpy as np\n",
    "import pandas as pd\n",
    "import matplotlib.pyplot as plt\n",
    "import src.utils\n",
    "import seaborn as sns\n",
    "sns.set(style='darkgrid', palette='rainbow')\n",
    "from sklearn.preprocessing import StandardScaler\n",
    "scaler = StandardScaler()\n",
    "from sklearn.model_selection import train_test_split\n",
    "from sklearn.linear_model import LogisticRegression\n",
    "logreg = LogisticRegression()\n",
    "from sklearn.model_selection import cross_val_score"
   ]
  },
  {
   "cell_type": "markdown",
   "metadata": {},
   "source": [
    "## Exploratory Data Analysis"
   ]
  },
  {
   "cell_type": "code",
   "execution_count": null,
   "metadata": {},
   "outputs": [],
   "source": [
    "fp = 'data/telco.csv'"
   ]
  },
  {
   "cell_type": "code",
   "execution_count": null,
   "metadata": {
    "scrolled": true
   },
   "outputs": [],
   "source": [
    "df = pd.read_csv(fp)\n",
    "df.head()"
   ]
  },
  {
   "cell_type": "code",
   "execution_count": null,
   "metadata": {},
   "outputs": [],
   "source": [
    "df.dtypes"
   ]
  },
  {
   "cell_type": "code",
   "execution_count": null,
   "metadata": {},
   "outputs": [],
   "source": [
    "df = df.drop(['customerID'], axis=1)\n",
    "df['SeniorCitizen'] = df['SeniorCitizen'].replace(to_replace=[0, 1], value=['No', 'Yes'])\n",
    "df['TotalCharges'] = pd.to_numeric(df['TotalCharges'], errors='coerce')"
   ]
  },
  {
   "cell_type": "code",
   "execution_count": null,
   "metadata": {},
   "outputs": [],
   "source": [
    "df.dtypes"
   ]
  },
  {
   "cell_type": "code",
   "execution_count": null,
   "metadata": {},
   "outputs": [],
   "source": [
    "df.isnull().sum()"
   ]
  },
  {
   "cell_type": "code",
   "execution_count": null,
   "metadata": {},
   "outputs": [],
   "source": [
    "df[pd.isnull(df['TotalCharges'])]"
   ]
  },
  {
   "cell_type": "code",
   "execution_count": null,
   "metadata": {},
   "outputs": [],
   "source": [
    "# todo: replace dropping with fill of monthly charges\n",
    "df = df.dropna(axis=0, subset=['TotalCharges'])"
   ]
  },
  {
   "cell_type": "code",
   "execution_count": null,
   "metadata": {},
   "outputs": [],
   "source": [
    "df.isnull().sum()"
   ]
  },
  {
   "cell_type": "code",
   "execution_count": null,
   "metadata": {},
   "outputs": [],
   "source": [
    "sns.countplot(x='Churn', data=df)\n",
    "plt.title('No Churn and Churn')\n",
    "plt.show()"
   ]
  },
  {
   "cell_type": "code",
   "execution_count": null,
   "metadata": {},
   "outputs": [],
   "source": [
    "count_no_churn = len(df[df['Churn']=='No'])\n",
    "count_churn = len(df[df['Churn']=='Yes'])\n",
    "pct_of_no_churn = count_no_churn/(count_no_churn+count_churn)\n",
    "pct_of_churn = count_churn/(count_no_churn+count_churn)\n",
    "print('Percent of No Churn %.2f' %(pct_of_no_churn*100))\n",
    "print('Percent of Churn %.2f' %(pct_of_churn*100))"
   ]
  },
  {
   "cell_type": "code",
   "execution_count": null,
   "metadata": {},
   "outputs": [],
   "source": [
    "fig, axes = plt.subplots(3,2, figsize=(15,12))\n",
    "sns.countplot(x='gender', hue='Churn', data=df, ax=axes[0][0])\n",
    "sns.countplot(x='SeniorCitizen', hue='Churn', data=df, ax=axes[0][1])\n",
    "sns.countplot(x='Partner', hue='Churn', data=df, ax=axes[1][0])\n",
    "sns.countplot(x='Dependents', hue='Churn', data=df, ax=axes[1][1])\n",
    "sns.countplot(x='PhoneService', hue='Churn', data=df, ax=axes[2][0])\n",
    "sns.countplot(x='PaperlessBilling', hue='Churn', data=df, ax=axes[2][1])\n",
    "plt.show()"
   ]
  },
  {
   "cell_type": "code",
   "execution_count": null,
   "metadata": {},
   "outputs": [],
   "source": [
    "fig, axes = plt.subplots(5,2, figsize=(15,25))\n",
    "sns.countplot(x='MultipleLines', hue='Churn', data=df, ax=axes[0][0])\n",
    "sns.countplot(x='InternetService', hue='Churn', data=df, ax=axes[0][1])\n",
    "sns.countplot(x='OnlineSecurity', hue='Churn', data=df, ax=axes[1][0])\n",
    "sns.countplot(x='OnlineBackup', hue='Churn', data=df, ax=axes[1][1])\n",
    "sns.countplot(x='DeviceProtection', hue='Churn', data=df, ax=axes[2][0])\n",
    "sns.countplot(x='TechSupport', hue='Churn', data=df, ax=axes[2][1])\n",
    "sns.countplot(x='StreamingTV', hue='Churn', data=df, ax=axes[3][0])\n",
    "sns.countplot(x='StreamingMovies', hue='Churn', data=df, ax=axes[3][1])\n",
    "sns.countplot(x='Contract', hue='Churn', data=df, ax=axes[4][0])\n",
    "sns.countplot(x='PaymentMethod', hue='Churn', data=df, ax=axes[4][1])\n",
    "plt.show()"
   ]
  },
  {
   "cell_type": "code",
   "execution_count": null,
   "metadata": {},
   "outputs": [],
   "source": [
    "sns.distplot(df['tenure'][df['Churn'] == 'Yes'])\n",
    "sns.distplot(df['tenure'][df['Churn'] == 'No'])\n",
    "plt.title('Density of Tenure in Months for Churn and No Churn')\n",
    "plt.legend(['Churn', 'No Churn'])\n",
    "plt.xlabel('Tenure (Months)')\n",
    "plt.ylabel('Probability Density')\n",
    "plt.show()"
   ]
  },
  {
   "cell_type": "code",
   "execution_count": null,
   "metadata": {},
   "outputs": [],
   "source": [
    "sns.distplot(df['MonthlyCharges'][df['Churn'] == 'Yes'])\n",
    "sns.distplot(df['MonthlyCharges'][df['Churn'] == 'No'])\n",
    "plt.title('Density of Monthly Charges for Churn and No Churn')\n",
    "plt.legend(['Churn', 'No Churn'])\n",
    "plt.xlabel('Monthly Charges')\n",
    "plt.ylabel('Probability Density')\n",
    "plt.show()"
   ]
  },
  {
   "cell_type": "code",
   "execution_count": null,
   "metadata": {},
   "outputs": [],
   "source": [
    "sns.distplot(df['TotalCharges'][df['Churn'] == 'Yes'])\n",
    "sns.distplot(df['TotalCharges'][df['Churn'] == 'No'])\n",
    "plt.title('Density of Total Charges for Churn and No Churn')\n",
    "plt.legend(['Churn', 'No Churn'])\n",
    "plt.xlabel('Total Charges')\n",
    "plt.ylabel('Probability Density')\n",
    "plt.show()"
   ]
  },
  {
   "cell_type": "markdown",
   "metadata": {},
   "source": [
    "## Regression Model"
   ]
  },
  {
   "cell_type": "code",
   "execution_count": null,
   "metadata": {},
   "outputs": [],
   "source": [
    "# todo: ohe on both datasets\n",
    "X = pd.get_dummies(df)\n",
    "X.drop(['Churn_No', 'Churn_Yes'], axis=1, inplace=True)\n",
    "y = df['Churn'].replace(to_replace=['No', 'Yes'], value=[0, 1])"
   ]
  },
  {
   "cell_type": "code",
   "execution_count": null,
   "metadata": {},
   "outputs": [],
   "source": [
    "X_train, X_test, y_train, y_test = train_test_split(X, y, test_size=0.2)"
   ]
  },
  {
   "cell_type": "code",
   "execution_count": null,
   "metadata": {},
   "outputs": [],
   "source": [
    "X_train = scaler.fit_transform(X_train)\n",
    "X_test = scaler.transform(X_test)"
   ]
  },
  {
   "cell_type": "code",
   "execution_count": null,
   "metadata": {},
   "outputs": [],
   "source": [
    "result = logreg.fit(X_train, y_train)"
   ]
  },
  {
   "cell_type": "code",
   "execution_count": null,
   "metadata": {
    "scrolled": true
   },
   "outputs": [],
   "source": [
    "score = result.score(X_test, y_test)\n",
    "print('Accuracy Score %.2f' %(score*100))"
   ]
  },
  {
   "cell_type": "code",
   "execution_count": null,
   "metadata": {},
   "outputs": [],
   "source": [
    "training_scores = cross_val_score(logreg, X_train, y_train, cv=5)\n",
    "print('CV Accuracy Scores', training_scores)"
   ]
  },
  {
   "cell_type": "code",
   "execution_count": null,
   "metadata": {},
   "outputs": [],
   "source": [
    "param_grid = {'C': [0.1,0.3,0.5,0.7,1]}"
   ]
  },
  {
   "cell_type": "code",
   "execution_count": null,
   "metadata": {},
   "outputs": [],
   "source": [
    "GridSearchCV(result, param_grid)"
   ]
  },
  {
   "cell_type": "markdown",
   "metadata": {},
   "source": [
    "## SVM Model"
   ]
  },
  {
   "cell_type": "code",
   "execution_count": null,
   "metadata": {},
   "outputs": [],
   "source": []
  },
  {
   "cell_type": "markdown",
   "metadata": {},
   "source": [
    "## AdaBoost Model"
   ]
  },
  {
   "cell_type": "code",
   "execution_count": null,
   "metadata": {},
   "outputs": [],
   "source": []
  },
  {
   "cell_type": "markdown",
   "metadata": {},
   "source": [
    "## ANN Model (if time permits)"
   ]
  },
  {
   "cell_type": "code",
   "execution_count": null,
   "metadata": {},
   "outputs": [],
   "source": []
  },
  {
   "cell_type": "markdown",
   "metadata": {},
   "source": [
    "## Discussion"
   ]
  },
  {
   "cell_type": "code",
   "execution_count": null,
   "metadata": {},
   "outputs": [],
   "source": []
  }
 ],
 "metadata": {
  "kernelspec": {
   "display_name": "Python 3",
   "language": "python",
   "name": "python3"
  },
  "language_info": {
   "codemirror_mode": {
    "name": "ipython",
    "version": 3
   },
   "file_extension": ".py",
   "mimetype": "text/x-python",
   "name": "python",
   "nbconvert_exporter": "python",
   "pygments_lexer": "ipython3",
   "version": "3.7.6"
  }
 },
 "nbformat": 4,
 "nbformat_minor": 4
}
