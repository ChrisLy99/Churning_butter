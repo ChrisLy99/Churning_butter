{
 "cells": [
  {
   "cell_type": "markdown",
   "metadata": {},
   "source": [
    "# COGS 118B Final Project\n",
    "### Authors:\n",
    "- Michelle Tran\n",
    "- Christopher Ly"
   ]
  },
  {
   "cell_type": "markdown",
   "metadata": {},
   "source": [
    "<strong style=\"color:red\">Just for reference for working on GitHub:</strong>\n",
    "<p style=\"color:red\">Be sure to clear output for the notebook before pushing to the repo, this is to keep commit history clean. You can do this by following the sequence below:</p>\n",
    "\n",
    "`Cell > All Output > Clear`"
   ]
  },
  {
   "cell_type": "code",
   "execution_count": null,
   "metadata": {},
   "outputs": [],
   "source": [
    "import numpy as np\n",
    "import pandas as pd\n",
    "import matplotlib.pyplot as plt\n",
    "import src.utils\n",
    "import seaborn as sns\n",
    "sns.set(style='darkgrid', palette='rainbow')\n",
    "from sklearn.preprocessing import StandardScaler\n",
    "scaler = StandardScaler()\n",
    "from sklearn.preprocessing import LabelEncoder\n",
    "le = LabelEncoder()\n",
    "from sklearn.preprocessing import OneHotEncoder\n",
    "ohe = OneHotEncoder(handle_unknown='ignore')\n",
    "from sklearn.model_selection import train_test_split\n",
    "from sklearn.linear_model import LogisticRegression\n",
    "logreg = LogisticRegression()\n",
    "from sklearn.model_selection import cross_val_score\n",
    "from sklearn.model_selection import GridSearchCV"
   ]
  },
  {
   "cell_type": "markdown",
   "metadata": {},
   "source": [
    "## Exploratory Data Analysis"
   ]
  },
  {
   "cell_type": "code",
   "execution_count": null,
   "metadata": {},
   "outputs": [],
   "source": [
    "fp = 'data/telco.csv'"
   ]
  },
  {
   "cell_type": "code",
   "execution_count": null,
   "metadata": {
    "scrolled": true
   },
   "outputs": [],
   "source": [
    "df = pd.read_csv(fp)\n",
    "df.head()"
   ]
  },
  {
   "cell_type": "code",
   "execution_count": null,
   "metadata": {},
   "outputs": [],
   "source": [
    "df.dtypes"
   ]
  },
  {
   "cell_type": "code",
   "execution_count": null,
   "metadata": {},
   "outputs": [],
   "source": [
    "df = df.drop(['customerID'], axis=1)\n",
    "df['SeniorCitizen'] = df['SeniorCitizen'].replace(to_replace=[0, 1], value=['No', 'Yes'])\n",
    "df['TotalCharges'] = pd.to_numeric(df['TotalCharges'], errors='coerce')"
   ]
  },
  {
   "cell_type": "code",
   "execution_count": null,
   "metadata": {},
   "outputs": [],
   "source": [
    "df.dtypes"
   ]
  },
  {
   "cell_type": "code",
   "execution_count": null,
   "metadata": {},
   "outputs": [],
   "source": [
    "df[pd.isnull(df['TotalCharges'])].head()"
   ]
  },
  {
   "cell_type": "code",
   "execution_count": null,
   "metadata": {},
   "outputs": [],
   "source": [
    "df.loc[df['TotalCharges'].isnull(),'tenure'] = 1\n",
    "df[pd.isnull(df['TotalCharges'])] = df[pd.isnull(df['TotalCharges'])].replace(to_replace=[0], value=[1])\n",
    "df['TotalCharges'].fillna(df['MonthlyCharges'], inplace=True)\n",
    "df.isnull().sum()"
   ]
  },
  {
   "cell_type": "code",
   "execution_count": null,
   "metadata": {},
   "outputs": [],
   "source": [
    "sns.countplot(x='Churn', data=df)\n",
    "plt.title('No Churn and Churn')\n",
    "plt.show()"
   ]
  },
  {
   "cell_type": "code",
   "execution_count": null,
   "metadata": {},
   "outputs": [],
   "source": [
    "count_no_churn = len(df[df['Churn']=='No'])\n",
    "count_churn = len(df[df['Churn']=='Yes'])\n",
    "pct_of_no_churn = count_no_churn/(count_no_churn+count_churn)\n",
    "pct_of_churn = count_churn/(count_no_churn+count_churn)\n",
    "print('Percent of No Churn %.2f' %(pct_of_no_churn*100))\n",
    "print('Percent of Churn %.2f' %(pct_of_churn*100))"
   ]
  },
  {
   "cell_type": "code",
   "execution_count": null,
   "metadata": {},
   "outputs": [],
   "source": [
    "fig, axes = plt.subplots(3,2, figsize=(15,12))\n",
    "sns.countplot(x='gender', hue='Churn', data=df, ax=axes[0][0])\n",
    "sns.countplot(x='SeniorCitizen', hue='Churn', data=df, ax=axes[0][1])\n",
    "sns.countplot(x='Partner', hue='Churn', data=df, ax=axes[1][0])\n",
    "sns.countplot(x='Dependents', hue='Churn', data=df, ax=axes[1][1])\n",
    "sns.countplot(x='PhoneService', hue='Churn', data=df, ax=axes[2][0])\n",
    "sns.countplot(x='PaperlessBilling', hue='Churn', data=df, ax=axes[2][1])\n",
    "plt.show()"
   ]
  },
  {
   "cell_type": "code",
   "execution_count": null,
   "metadata": {},
   "outputs": [],
   "source": [
    "fig, axes = plt.subplots(5,2, figsize=(15,25))\n",
    "sns.countplot(x='MultipleLines', hue='Churn', data=df, ax=axes[0][0])\n",
    "sns.countplot(x='InternetService', hue='Churn', data=df, ax=axes[0][1])\n",
    "sns.countplot(x='OnlineSecurity', hue='Churn', data=df, ax=axes[1][0])\n",
    "sns.countplot(x='OnlineBackup', hue='Churn', data=df, ax=axes[1][1])\n",
    "sns.countplot(x='DeviceProtection', hue='Churn', data=df, ax=axes[2][0])\n",
    "sns.countplot(x='TechSupport', hue='Churn', data=df, ax=axes[2][1])\n",
    "sns.countplot(x='StreamingTV', hue='Churn', data=df, ax=axes[3][0])\n",
    "sns.countplot(x='StreamingMovies', hue='Churn', data=df, ax=axes[3][1])\n",
    "sns.countplot(x='Contract', hue='Churn', data=df, ax=axes[4][0])\n",
    "sns.countplot(x='PaymentMethod', hue='Churn', data=df, ax=axes[4][1])\n",
    "plt.show()"
   ]
  },
  {
   "cell_type": "code",
   "execution_count": null,
   "metadata": {},
   "outputs": [],
   "source": [
    "sns.distplot(df['tenure'][df['Churn'] == 'Yes'])\n",
    "sns.distplot(df['tenure'][df['Churn'] == 'No'])\n",
    "plt.title('Density of Tenure in Months for Churn and No Churn')\n",
    "plt.legend(['Churn', 'No Churn'])\n",
    "plt.xlabel('Tenure (Months)')\n",
    "plt.ylabel('Probability Density')\n",
    "plt.show()"
   ]
  },
  {
   "cell_type": "code",
   "execution_count": null,
   "metadata": {},
   "outputs": [],
   "source": [
    "sns.distplot(df['MonthlyCharges'][df['Churn'] == 'Yes'])\n",
    "sns.distplot(df['MonthlyCharges'][df['Churn'] == 'No'])\n",
    "plt.title('Density of Monthly Charges for Churn and No Churn')\n",
    "plt.legend(['Churn', 'No Churn'])\n",
    "plt.xlabel('Monthly Charges')\n",
    "plt.ylabel('Probability Density')\n",
    "plt.show()"
   ]
  },
  {
   "cell_type": "code",
   "execution_count": null,
   "metadata": {},
   "outputs": [],
   "source": [
    "sns.distplot(df['TotalCharges'][df['Churn'] == 'Yes'])\n",
    "sns.distplot(df['TotalCharges'][df['Churn'] == 'No'])\n",
    "plt.title('Density of Total Charges for Churn and No Churn')\n",
    "plt.legend(['Churn', 'No Churn'])\n",
    "plt.xlabel('Total Charges')\n",
    "plt.ylabel('Probability Density')\n",
    "plt.show()"
   ]
  },
  {
   "cell_type": "code",
   "execution_count": null,
   "metadata": {},
   "outputs": [],
   "source": [
    "df['Churn'] = df['Churn'].replace(to_replace=['No', 'Yes'], value=[0, 1])"
   ]
  },
  {
   "cell_type": "code",
   "execution_count": null,
   "metadata": {},
   "outputs": [],
   "source": [
    "df.dtypes"
   ]
  },
  {
   "cell_type": "code",
   "execution_count": null,
   "metadata": {},
   "outputs": [],
   "source": [
    "df_categorical = df.select_dtypes(include=[object])\n",
    "df_categorical.head()"
   ]
  },
  {
   "cell_type": "code",
   "execution_count": null,
   "metadata": {
    "scrolled": true
   },
   "outputs": [],
   "source": [
    "df_numerical = df.select_dtypes(include=[int, float])\n",
    "df_numerical = df_numerical.drop(['Churn'], axis=1)\n",
    "df_numerical.head()"
   ]
  },
  {
   "cell_type": "code",
   "execution_count": null,
   "metadata": {},
   "outputs": [],
   "source": [
    "X = pd.DataFrame(ohe.fit_transform(df_categorical).todense(), columns=ohe.get_feature_names(df_categorical.columns))"
   ]
  },
  {
   "cell_type": "code",
   "execution_count": null,
   "metadata": {},
   "outputs": [],
   "source": [
    "X = pd.concat([df_numerical,X], axis=1)\n",
    "X.head()"
   ]
  },
  {
   "cell_type": "code",
   "execution_count": null,
   "metadata": {},
   "outputs": [],
   "source": [
    "y = df['Churn']"
   ]
  },
  {
   "cell_type": "code",
   "execution_count": null,
   "metadata": {},
   "outputs": [],
   "source": [
    "X_train, X_test, y_train, y_test = train_test_split(X, y, test_size=0.2)"
   ]
  },
  {
   "cell_type": "code",
   "execution_count": null,
   "metadata": {},
   "outputs": [],
   "source": [
    "X_train = scaler.fit_transform(X_train)\n",
    "X_test = scaler.transform(X_test)"
   ]
  },
  {
   "cell_type": "markdown",
   "metadata": {},
   "source": [
    "## Regression Model"
   ]
  },
  {
   "cell_type": "code",
   "execution_count": null,
   "metadata": {},
   "outputs": [],
   "source": [
    "mdl = logreg.fit(X_train, y_train)"
   ]
  },
  {
   "cell_type": "code",
   "execution_count": null,
   "metadata": {
    "scrolled": true
   },
   "outputs": [],
   "source": [
    "score = mdl.score(X_test, y_test)\n",
    "print('Accuracy Score %.2f' %(score*100))"
   ]
  },
  {
   "cell_type": "code",
   "execution_count": null,
   "metadata": {},
   "outputs": [],
   "source": [
    "training_scores = cross_val_score(logreg, X_train, y_train, cv=5)\n",
    "print('CV Accuracy Scores', training_scores)"
   ]
  },
  {
   "cell_type": "code",
   "execution_count": null,
   "metadata": {},
   "outputs": [],
   "source": [
    "param_grid = {'C': [0.001,0.005,0.01,0.05,0.1,0.5,1,10], \n",
    "             'penalty' : ['l1', 'l2'],\n",
    "             'tol' : [1e-4],\n",
    "             'max_iter' : [100,500,1000]}"
   ]
  },
  {
   "cell_type": "code",
   "execution_count": null,
   "metadata": {},
   "outputs": [],
   "source": [
    "gs = GridSearchCV(mdl, param_grid, n_jobs=-1, cv=10)\n",
    "gs.fit(X_train, y_train)"
   ]
  },
  {
   "cell_type": "code",
   "execution_count": null,
   "metadata": {},
   "outputs": [],
   "source": [
    "gs.best_params_"
   ]
  },
  {
   "cell_type": "code",
   "execution_count": null,
   "metadata": {
    "scrolled": true
   },
   "outputs": [],
   "source": [
    "gs.best_score_"
   ]
  },
  {
   "cell_type": "code",
   "execution_count": null,
   "metadata": {
    "scrolled": true
   },
   "outputs": [],
   "source": [
    "print('Accuracy Score %.2f' %(mdl.set_params(**gs.best_params_).score(X_test, y_test)*100))"
   ]
  },
  {
   "cell_type": "code",
   "execution_count": null,
   "metadata": {},
   "outputs": [],
   "source": [
    "to_sort = {k:v for k,v in zip(X.columns.values,mdl.coef_.reshape((-1,)))}\n",
    "sort = {k: v for k, v in sorted(to_sort.items(), key=lambda item: item[1])}"
   ]
  },
  {
   "cell_type": "code",
   "execution_count": null,
   "metadata": {},
   "outputs": [],
   "source": [
    "plt.figure(figsize=(12,12))\n",
    "plt.suptitle(\"Weights of logistic regression model\")\n",
    "sns.barplot(x=[x for _,x in sort.items()], y=[y for y,_ in sort.items()])"
   ]
  },
  {
   "cell_type": "markdown",
   "metadata": {},
   "source": [
    "## SVM Model"
   ]
  },
  {
   "cell_type": "code",
   "execution_count": null,
   "metadata": {},
   "outputs": [],
   "source": [
    "from sklearn.svm import SVC as svc"
   ]
  },
  {
   "cell_type": "code",
   "execution_count": null,
   "metadata": {},
   "outputs": [],
   "source": [
    "mdl2 = svc()\n",
    "result2 = mdl2.fit(X_train, y_train)"
   ]
  },
  {
   "cell_type": "code",
   "execution_count": null,
   "metadata": {
    "scrolled": true
   },
   "outputs": [],
   "source": [
    "score2 = result2.score(X_test, y_test)\n",
    "print('Accuracy Score %.2f' %(score2*100))"
   ]
  },
  {
   "cell_type": "code",
   "execution_count": null,
   "metadata": {},
   "outputs": [],
   "source": [
    "training_scores2 = cross_val_score(mdl2, X_train, y_train, cv=5)\n",
    "print('CV Accuracy Scores', training_scores2)"
   ]
  },
  {
   "cell_type": "code",
   "execution_count": null,
   "metadata": {},
   "outputs": [],
   "source": [
    "param_grid2 = {'C': [0.001,0.005,0.01,0.05,0.1,0.5,1,10], \n",
    "             'kernel' : ['linear', 'poly', 'rbf', 'sigmoid'],\n",
    "             'max_iter' : [-1,100,500,1000]}"
   ]
  },
  {
   "cell_type": "code",
   "execution_count": null,
   "metadata": {},
   "outputs": [],
   "source": [
    "gs2 = GridSearchCV(result2, param_grid2, n_jobs=-1, cv=10)\n",
    "gs2.fit(X_train, y_train)"
   ]
  },
  {
   "cell_type": "code",
   "execution_count": null,
   "metadata": {},
   "outputs": [],
   "source": [
    "gs2.best_params_"
   ]
  },
  {
   "cell_type": "code",
   "execution_count": null,
   "metadata": {},
   "outputs": [],
   "source": [
    "gs2.best_score_"
   ]
  },
  {
   "cell_type": "code",
   "execution_count": null,
   "metadata": {},
   "outputs": [],
   "source": [
    "print('Accuracy Score %.2f' %(mdl2.set_params(**gs2.best_params_).score(X_test, y_test)*100))"
   ]
  },
  {
   "cell_type": "markdown",
   "metadata": {},
   "source": [
    "## AdaBoost Model"
   ]
  },
  {
   "cell_type": "code",
   "execution_count": null,
   "metadata": {},
   "outputs": [],
   "source": [
    "from sklearn.ensemble import AdaBoostClassifier as ada"
   ]
  },
  {
   "cell_type": "code",
   "execution_count": null,
   "metadata": {},
   "outputs": [],
   "source": [
    "mdl3 = ada()\n",
    "result3 = mdl3.fit(X_train, y_train)"
   ]
  },
  {
   "cell_type": "code",
   "execution_count": null,
   "metadata": {
    "scrolled": true
   },
   "outputs": [],
   "source": [
    "score3 = result3.score(X_test, y_test)\n",
    "print('Accuracy Score %.2f' %(score3*100))"
   ]
  },
  {
   "cell_type": "code",
   "execution_count": null,
   "metadata": {},
   "outputs": [],
   "source": [
    "training_scores3 = cross_val_score(mdl3, X_train, y_train, cv=5)\n",
    "print('CV Accuracy Scores', training_scores3)"
   ]
  },
  {
   "cell_type": "code",
   "execution_count": null,
   "metadata": {},
   "outputs": [],
   "source": [
    "param_grid3 = {'n_estimators': [10,25,50,100,250], \n",
    "             'learning_rate' : [0.01,0.05,0.1,0.5,1,10]}"
   ]
  },
  {
   "cell_type": "code",
   "execution_count": null,
   "metadata": {},
   "outputs": [],
   "source": [
    "gs3 = GridSearchCV(result3, param_grid3, n_jobs=-1, cv=10)\n",
    "gs3.fit(X_train, y_train)"
   ]
  },
  {
   "cell_type": "code",
   "execution_count": null,
   "metadata": {},
   "outputs": [],
   "source": [
    "gs3.best_params_"
   ]
  },
  {
   "cell_type": "code",
   "execution_count": null,
   "metadata": {},
   "outputs": [],
   "source": [
    "gs3.best_score_"
   ]
  },
  {
   "cell_type": "code",
   "execution_count": null,
   "metadata": {},
   "outputs": [],
   "source": [
    "print('Accuracy Score %.2f' %(mdl3.set_params(**gs3.best_params_).score(X_test, y_test)*100))"
   ]
  },
  {
   "cell_type": "code",
   "execution_count": null,
   "metadata": {},
   "outputs": [],
   "source": [
    "to_sort = {k:v for k,v in zip(X.columns.values,mdl3.feature_importances_)}\n",
    "sort = {k: v for k, v in sorted(to_sort.items(), key=lambda item: item[1])}"
   ]
  },
  {
   "cell_type": "code",
   "execution_count": null,
   "metadata": {},
   "outputs": [],
   "source": [
    "plt.figure(figsize=(12,12))\n",
    "plt.suptitle(\"Weights of AdaBoost model\")\n",
    "sns.barplot(x=[x for _,x in sort.items()], y=[y for y,_ in sort.items()])"
   ]
  },
  {
   "cell_type": "code",
   "execution_count": null,
   "metadata": {},
   "outputs": [],
   "source": [
    "to_sort = {k:v for k,v in zip(X.columns.values,mdl3.feature_importances_)}\n",
    "sort = {k: v for k, v in sorted(to_sort.items(), key=lambda item: item[1]) if v!=0}"
   ]
  },
  {
   "cell_type": "code",
   "execution_count": null,
   "metadata": {},
   "outputs": [],
   "source": [
    "plt.figure(figsize=(12,8))\n",
    "plt.suptitle(\"Weights of AdaBoost model\")\n",
    "sns.barplot(x=[x for _,x in sort.items()], y=[y for y,_ in sort.items()])"
   ]
  },
  {
   "cell_type": "markdown",
   "metadata": {},
   "source": [
    "## ANN Model (if time permits)"
   ]
  },
  {
   "cell_type": "code",
   "execution_count": null,
   "metadata": {},
   "outputs": [],
   "source": []
  },
  {
   "cell_type": "markdown",
   "metadata": {},
   "source": [
    "## Discussion"
   ]
  },
  {
   "cell_type": "code",
   "execution_count": null,
   "metadata": {},
   "outputs": [],
   "source": []
  }
 ],
 "metadata": {
  "kernelspec": {
   "display_name": "Python 3",
   "language": "python",
   "name": "python3"
  },
  "language_info": {
   "codemirror_mode": {
    "name": "ipython",
    "version": 3
   },
   "file_extension": ".py",
   "mimetype": "text/x-python",
   "name": "python",
   "nbconvert_exporter": "python",
   "pygments_lexer": "ipython3",
   "version": "3.7.6"
  }
 },
 "nbformat": 4,
 "nbformat_minor": 4
}
